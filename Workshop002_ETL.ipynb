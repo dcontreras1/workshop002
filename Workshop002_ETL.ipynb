{
 "cells": [
  {
   "cell_type": "markdown",
   "id": "1a03625d",
   "metadata": {},
   "source": [
    "# Workshop002 - Proyecto ETL\n",
    "\n",
    "Este proyecto representa un pipeline ETL (Extracción, Transformación y Carga) implementado con Airflow y enfocado en datos musicales. El flujo incluye datos de:\n",
    "- Premios Grammy\n",
    "- Spotify\n",
    "- API de MusicBrainz"
   ]
  },
  {
   "cell_type": "markdown",
   "id": "6707cb37",
   "metadata": {},
   "source": [
    "## Extracción\n",
    "\n",
    "Se realiza desde tres fuentes distintas:\n",
    "\n",
    "1. Grammy Awards: archivo CSV crudo.\n",
    "2. Spotify: archivo CSV proporcionado con canciones y métricas musicales.\n",
    "3. MusicBrainz API: se consulta por artista y canción para obtener identificadores únicos (MusicBrainz ID).\n",
    "\n",
    "Cada una se guarda como archivo temporal\n"
   ]
  },
  {
   "cell_type": "markdown",
   "id": "be364169",
   "metadata": {},
   "source": [
    "## Transformación\n",
    "\n",
    "Se realiza por separado para cada fuente:\n",
    "\n",
    "- Grammy: limpieza, renombrado de columnas y filtrado.\n",
    "- Spotify: eliminación de duplicados y nulos, transformación de duración (ms -> min) y redondeo del tempo.\n",
    "- API: normalización del ID MusicBrainz y verificación de columnas clave.\n",
    "\n",
    "Los archivos transformados se guardan como:\n",
    "\n",
    "- grammy_transformed.csv\n",
    "- spotify_transformed.csv\n",
    "- spotify_api_transformed.csv\n"
   ]
  },
  {
   "cell_type": "markdown",
   "id": "90c99b03",
   "metadata": {},
   "source": [
    "## Merge\n",
    "\n",
    "Se combinan los datasets transformados:\n",
    "\n",
    "1. Spotify + API -> Enriquecido por MusicBrainz.\n",
    "2. Enriquecido + Grammy → Datos consolidados solo para artistas que han sido nominados.\n",
    "\n",
    "Se genera merged_dataset.csv como resultado final.\n"
   ]
  },
  {
   "cell_type": "markdown",
   "id": "f497cacc",
   "metadata": {},
   "source": [
    "## Carga en PostgreSQL\n",
    "\n",
    "Usando SQLAlchemy y la conexión de Airflow (PSQL_Workshop_conn), el archivo merged_dataset.csv se carga en una tabla llamada merged_music_data.\n"
   ]
  },
  {
   "cell_type": "markdown",
   "id": "30724ad3",
   "metadata": {},
   "source": [
    "## Almacenamiento en Google Drive\n",
    "\n",
    "Con una cuenta de servicio, se autentica y se sube el archivo final a una carpeta específica de Google Drive. Si existe previamente, se reemplaza.\n"
   ]
  }
 ],
 "metadata": {
  "language_info": {
   "name": "python"
  }
 },
 "nbformat": 4,
 "nbformat_minor": 5
}
